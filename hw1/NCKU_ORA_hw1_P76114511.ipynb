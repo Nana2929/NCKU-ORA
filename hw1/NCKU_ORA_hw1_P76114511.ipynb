{
 "cells": [
  {
   "cell_type": "markdown",
   "id": "d25f1154-ac41-4ad5-ba9a-13287d7f48bd",
   "metadata": {},
   "source": [
    "## 🍀 Operations Research Application HW1\n",
    "- Author: 楊晴雯\n",
    "- Date: 2022/09/10\n",
    "- NCKU-ORA: Assignment 1 (Code)"
   ]
  },
  {
   "cell_type": "markdown",
   "id": "2bc5edc2-6a24-4bbd-a498-78a45495540e",
   "metadata": {},
   "source": [
    "## Q1"
   ]
  },
  {
   "cell_type": "code",
   "execution_count": 1,
   "id": "c4c2a737-0d85-40d8-930a-e1880ed186c6",
   "metadata": {},
   "outputs": [],
   "source": [
    "from gurobipy import *\n",
    "import pandas as pd"
   ]
  },
  {
   "cell_type": "code",
   "execution_count": 2,
   "id": "536b0fd5-89cb-41bd-8580-168daa519e7c",
   "metadata": {},
   "outputs": [],
   "source": [
    "data = {'FatCalories': [10,75,0,20,70,0],\n",
    "    'TotalCalories' : [70,100,50,60,150,100],\n",
    "    'VitaminC' : [0,0,3,0,2,120],\n",
    "    'Protein' : [3,4,0,1,8,1],\n",
    "    'Cost' : [5,4,7,8,15,35]}\n",
    "data = pd.DataFrame(data)"
   ]
  },
  {
   "cell_type": "code",
   "execution_count": 3,
   "id": "084962d2-9c2d-4c9b-ae8f-b9193f3d83f1",
   "metadata": {},
   "outputs": [
    {
     "data": {
      "text/html": [
       "<div>\n",
       "<style scoped>\n",
       "    .dataframe tbody tr th:only-of-type {\n",
       "        vertical-align: middle;\n",
       "    }\n",
       "\n",
       "    .dataframe tbody tr th {\n",
       "        vertical-align: top;\n",
       "    }\n",
       "\n",
       "    .dataframe thead th {\n",
       "        text-align: right;\n",
       "    }\n",
       "</style>\n",
       "<table border=\"1\" class=\"dataframe\">\n",
       "  <thead>\n",
       "    <tr style=\"text-align: right;\">\n",
       "      <th></th>\n",
       "      <th>FatCalories</th>\n",
       "      <th>TotalCalories</th>\n",
       "      <th>VitaminC</th>\n",
       "      <th>Protein</th>\n",
       "      <th>Cost</th>\n",
       "    </tr>\n",
       "  </thead>\n",
       "  <tbody>\n",
       "    <tr>\n",
       "      <th>0</th>\n",
       "      <td>10</td>\n",
       "      <td>70</td>\n",
       "      <td>0</td>\n",
       "      <td>3</td>\n",
       "      <td>5</td>\n",
       "    </tr>\n",
       "    <tr>\n",
       "      <th>1</th>\n",
       "      <td>75</td>\n",
       "      <td>100</td>\n",
       "      <td>0</td>\n",
       "      <td>4</td>\n",
       "      <td>4</td>\n",
       "    </tr>\n",
       "    <tr>\n",
       "      <th>2</th>\n",
       "      <td>0</td>\n",
       "      <td>50</td>\n",
       "      <td>3</td>\n",
       "      <td>0</td>\n",
       "      <td>7</td>\n",
       "    </tr>\n",
       "    <tr>\n",
       "      <th>3</th>\n",
       "      <td>20</td>\n",
       "      <td>60</td>\n",
       "      <td>0</td>\n",
       "      <td>1</td>\n",
       "      <td>8</td>\n",
       "    </tr>\n",
       "    <tr>\n",
       "      <th>4</th>\n",
       "      <td>70</td>\n",
       "      <td>150</td>\n",
       "      <td>2</td>\n",
       "      <td>8</td>\n",
       "      <td>15</td>\n",
       "    </tr>\n",
       "    <tr>\n",
       "      <th>5</th>\n",
       "      <td>0</td>\n",
       "      <td>100</td>\n",
       "      <td>120</td>\n",
       "      <td>1</td>\n",
       "      <td>35</td>\n",
       "    </tr>\n",
       "  </tbody>\n",
       "</table>\n",
       "</div>"
      ],
      "text/plain": [
       "   FatCalories  TotalCalories  VitaminC  Protein  Cost\n",
       "0           10             70         0        3     5\n",
       "1           75            100         0        4     4\n",
       "2            0             50         3        0     7\n",
       "3           20             60         0        1     8\n",
       "4           70            150         2        8    15\n",
       "5            0            100       120        1    35"
      ]
     },
     "execution_count": 3,
     "metadata": {},
     "output_type": "execute_result"
    }
   ],
   "source": [
    "data"
   ]
  },
  {
   "cell_type": "code",
   "execution_count": 4,
   "id": "b5085722-0e82-41ec-921c-d16f9a8e24fd",
   "metadata": {},
   "outputs": [
    {
     "name": "stdout",
     "output_type": "stream",
     "text": [
      "Set parameter Username\n",
      "Academic license - for non-commercial use only - expires 2023-03-31\n"
     ]
    }
   ],
   "source": [
    "model = Model('Q1')"
   ]
  },
  {
   "cell_type": "code",
   "execution_count": 11,
   "id": "c679d7c7-b317-4735-b984-9250a325e573",
   "metadata": {},
   "outputs": [],
   "source": [
    "# number of food items \n",
    "N = 6 \n",
    "Mapping = ['bread', 'peanut-butter', 'jelly', 'cracker', 'milk', 'juice']\n",
    "def modeling(vartype):\n",
    "    X = [0 for _ in range(N)]\n",
    "    for i in range(N):\n",
    "        if vartype == 'continuous':\n",
    "            X[i] = model.addVar(lb = 0, vtype = GRB.CONTINUOUS, name = f'x{i+1}') #sign + constraint\n",
    "        else: \n",
    "            X[i] = model.addVar(lb = 0, vtype = GRB.INTEGER, name = f'x{i+1}') #sign + constraint\n",
    "        \n",
    "        \n",
    "    # Objective: cost minimization    \n",
    "    total_cost = quicksum(data.Cost[i] * X[i] for i in range(N))\n",
    "    model.setObjective(total_cost, GRB.MINIMIZE)\n",
    "\n",
    "    # 1. Total Calories Constraint \n",
    "    Ct = quicksum(data.TotalCalories[i] * X[i] for i in range(N))\n",
    "    model.addConstr(Ct <= 600, 'total calories upper')\n",
    "    model.addConstr(Ct >= 400, 'total calories lower')\n",
    "\n",
    "\n",
    "    # 2. Calories Fat Percentage \n",
    "    Cf = quicksum(data.FatCalories[i] * X[i] for i in range(N))\n",
    "    model.addConstr(Cf <= Ct*0.3, \"calories fat percentage\")\n",
    "\n",
    "    # 3. Vitamin C intake \n",
    "    VCI = quicksum(data.VitaminC[i] * X[i] for i in range(N))\n",
    "    model.addConstr(VCI >= 60, 'Vitamin C intake')\n",
    "\n",
    "    # 4. Protein\n",
    "    PI = quicksum(data.Protein[i] * X[i] for i in range(N))\n",
    "    model.addConstr(PI >= 12, 'Protein intake')\n",
    "\n",
    "    # 5. Extra \n",
    "    model.addConstr(X[0] == 2, 'X1 (bread) should be exactly 2 pcs' )\n",
    "    model.addConstr(X[1] >= 2*X[2], 'X2 (peanut butter) should be at least twice as much as X3 (jelly)')\n",
    "    model.addConstr(X[4]+X[5] >= 1, 'at least 1 cup of liquid(X5, X6)')\n",
    "    return model, X"
   ]
  },
  {
   "cell_type": "code",
   "execution_count": 17,
   "id": "f32af3b4-b2d3-42bc-9b17-91cfa2f76c51",
   "metadata": {},
   "outputs": [
    {
     "name": "stdout",
     "output_type": "stream",
     "text": [
      "Gurobi Optimizer version 9.5.1 build v9.5.1rc2 (mac64[x86])\n",
      "Thread count: 4 physical cores, 8 logical processors, using up to 8 threads\n",
      "Optimize a model with 40 rows, 30 columns and 155 nonzeros\n",
      "Model fingerprint: 0xac515d0c\n",
      "Variable types: 18 continuous, 12 integer (0 binary)\n",
      "Coefficient statistics:\n",
      "  Matrix range     [1e+00, 2e+02]\n",
      "  Objective range  [4e+00, 4e+01]\n",
      "  Bounds range     [0e+00, 0e+00]\n",
      "  RHS range        [1e+00, 6e+02]\n",
      "\n",
      "MIP start from previous solve produced solution with objective 47.3106 (0.01s)\n",
      "Loaded MIP start from previous solve with objective 47.3106\n",
      "\n",
      "Presolve removed 33 rows and 25 columns\n",
      "Presolve time: 0.00s\n",
      "Presolved: 7 rows, 5 columns, 26 nonzeros\n",
      "Variable types: 5 continuous, 0 integer (0 binary)\n",
      "\n",
      "Root relaxation: cutoff, 2 iterations, 0.00 seconds (0.00 work units)\n",
      "\n",
      "    Nodes    |    Current Node    |     Objective Bounds      |     Work\n",
      " Expl Unexpl |  Obj  Depth IntInf | Incumbent    BestBd   Gap | It/Node Time\n",
      "\n",
      "     0     0     cutoff    0        47.31063   47.31063  0.00%     -    0s\n",
      "\n",
      "Explored 1 nodes (2 simplex iterations) in 0.02 seconds (0.00 work units)\n",
      "Thread count was 8 (of 8 available processors)\n",
      "\n",
      "Solution count 1: 47.3106 \n",
      "\n",
      "Optimal solution found (tolerance 1.00e-04)\n",
      "Best objective 4.731063122924e+01, best bound 4.731063122924e+01, gap 0.0000%\n",
      "* minimum cost per child: 47.31063122923588\n",
      "bread: 2.0\n",
      "peanut-butter: 0.5747508305647843\n",
      "jelly: 0.28737541528239213\n",
      "cracker: 1.0394518272425246\n",
      "milk: 0.5157807308970099\n",
      "juice: 0.48421926910299007\n"
     ]
    }
   ],
   "source": [
    "model,X = modeling('continuous')\n",
    "model.optimize()\n",
    "min_cost = model.objVal\n",
    "print(f'* minimum cost per child: {min_cost}')\n",
    "for i in range(6):\n",
    "    print(f'{Mapping[i]}: {X[i].x}')"
   ]
  },
  {
   "cell_type": "code",
   "execution_count": 15,
   "id": "239f3f3c-0940-4b2e-a449-668ae109d1f2",
   "metadata": {},
   "outputs": [
    {
     "name": "stdout",
     "output_type": "stream",
     "text": [
      "Gurobi Optimizer version 9.5.1 build v9.5.1rc2 (mac64[x86])\n",
      "Thread count: 4 physical cores, 8 logical processors, using up to 8 threads\n",
      "Optimize a model with 32 rows, 24 columns and 124 nonzeros\n",
      "Model fingerprint: 0xea0d8e50\n",
      "Variable types: 12 continuous, 12 integer (0 binary)\n",
      "Coefficient statistics:\n",
      "  Matrix range     [1e+00, 2e+02]\n",
      "  Objective range  [4e+00, 4e+01]\n",
      "  Bounds range     [0e+00, 0e+00]\n",
      "  RHS range        [1e+00, 6e+02]\n",
      "\n",
      "MIP start from previous solve produced solution with objective 85 (0.01s)\n",
      "MIP start from previous solve produced solution with objective 57 (0.01s)\n",
      "Loaded MIP start from previous solve with objective 57\n",
      "\n",
      "Presolve removed 26 rows and 19 columns\n",
      "Presolve time: 0.01s\n",
      "Presolved: 6 rows, 5 columns, 20 nonzeros\n",
      "Variable types: 5 continuous, 0 integer (0 binary)\n",
      "\n",
      "Explored 0 nodes (0 simplex iterations) in 0.03 seconds (0.00 work units)\n",
      "Thread count was 8 (of 8 available processors)\n",
      "\n",
      "Solution count 2: 57 85 \n",
      "\n",
      "Optimal solution found (tolerance 1.00e-04)\n",
      "Best objective 5.700000000000e+01, best bound 5.700000000000e+01, gap 0.0000%\n"
     ]
    }
   ],
   "source": [
    "model,X = modeling('integer')\n",
    "model.optimize()"
   ]
  },
  {
   "cell_type": "code",
   "execution_count": 16,
   "id": "9fc02244",
   "metadata": {},
   "outputs": [
    {
     "name": "stdout",
     "output_type": "stream",
     "text": [
      "* minimum cost per child: 57.0\n",
      "bread: 2.0\n",
      "peanut-butter: 1.0\n",
      "jelly: 0.0\n",
      "cracker: 1.0\n",
      "milk: -0.0\n",
      "juice: 1.0\n"
     ]
    }
   ],
   "source": [
    "min_cost = model.objVal\n",
    "print(f'* minimum cost per child: {min_cost}')\n",
    "for i in range(6):\n",
    "    print(f'{Mapping[i]}: {X[i].x}')"
   ]
  },
  {
   "cell_type": "markdown",
   "id": "78c0cafb-3ee5-4963-bb46-1a21646fecb3",
   "metadata": {},
   "source": [
    "## Q2"
   ]
  },
  {
   "cell_type": "code",
   "execution_count": 40,
   "id": "f83872e0-dc5f-4679-a8ca-4241b55f3ff9",
   "metadata": {},
   "outputs": [
    {
     "name": "stdout",
     "output_type": "stream",
     "text": [
      "Note: you may need to restart the kernel to use updated packages.\n"
     ]
    }
   ],
   "source": [
    "pip -q install discreteMarkovChain"
   ]
  },
  {
   "cell_type": "code",
   "execution_count": 65,
   "id": "4d66c901-c6b4-4c82-ab00-195f8ed362ff",
   "metadata": {},
   "outputs": [
    {
     "name": "stdout",
     "output_type": "stream",
     "text": [
      "(2) The probability that the unit will be inoperable\n",
      "\tafter 2 periods: [[0.]]\n",
      "\tafter 5 periods: [[0.04]]\n",
      "\tafter 10 periods: [[0.03838157]]\n",
      "\tafter 20 periods: [[0.03846144]]\n",
      "(3) steady state: [0.61538462 0.19230769 0.03846154 0.15384615]\n",
      "(4) The long-run expected cost is $1153.8461538461538.\n"
     ]
    }
   ],
   "source": [
    "import numpy as np\n",
    "from discreteMarkovChain import markovChain\n",
    "\n",
    "# U: the number of components that are operational st the end of period t\n",
    "# V: the number of periods of repair that have been completed on components that are not yet operational \n",
    "\n",
    "states = [(2,0), (1,0), (0,1), (1,1)] # (U, V)\n",
    "markov_matrix = [[0.8,0.2,0,0],\n",
    "                [0,0,0.2,0.8],\n",
    "                [0,1,0,0],\n",
    "                [0.8,0.2,0,0]]\n",
    "P = np.matrix(markov_matrix)\n",
    "\n",
    "# the probability of reaching state 2 from the {n}th transition matrix\n",
    "# Let initial probs (M) be (U, V) = (2,0) as 1 (both components are operational)\n",
    "# https://www.math.ncku.edu.tw/~fang/Linear-Algebra-Note-06.pdf\n",
    "# state probibilities after n periods: P^(n-1)M, given that P: row: present state, col: next state\n",
    "\n",
    "M = np.array([1, 0, 0, 0])\n",
    "print('(2) The probability that the unit will be inoperable')\n",
    "for n in [2,5,10,20]:\n",
    "    Ppower = np.linalg.matrix_power(P, n-1)\n",
    "    probs = np.dot(M, Ppower)\n",
    "    print(f'\\tafter {n} periods: {probs[:,2]}') \n",
    "\n",
    "mc = markovChain(P)\n",
    "mc.computePi('linear') #We can also use 'power', 'krylov' or 'eigen'\n",
    "print(f'(3) steady state: {mc.pi}')\n",
    "\n",
    "cost = 30000\n",
    "print(f'(4) The long-run expected cost is ${mc.pi[2]*cost}.')"
   ]
  },
  {
   "cell_type": "code",
   "execution_count": null,
   "id": "4c53d9c0-90ea-4e73-ac79-58b8b16f7086",
   "metadata": {},
   "outputs": [],
   "source": []
  }
 ],
 "metadata": {
  "kernelspec": {
   "display_name": "Python 3.8.12 ('base')",
   "language": "python",
   "name": "python3"
  },
  "language_info": {
   "codemirror_mode": {
    "name": "ipython",
    "version": 3
   },
   "file_extension": ".py",
   "mimetype": "text/x-python",
   "name": "python",
   "nbconvert_exporter": "python",
   "pygments_lexer": "ipython3",
   "version": "3.8.12"
  },
  "vscode": {
   "interpreter": {
    "hash": "f12da1361a299b3bbc907906bc41ae00dbcab0bc7b6e46d3c567f144e57d56b4"
   }
  }
 },
 "nbformat": 4,
 "nbformat_minor": 5
}
